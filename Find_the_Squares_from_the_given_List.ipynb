{
  "nbformat": 4,
  "nbformat_minor": 0,
  "metadata": {
    "colab": {
      "provenance": [],
      "authorship_tag": "ABX9TyNVWa2EqCft+wqQyidNP3wq",
      "include_colab_link": true
    },
    "kernelspec": {
      "name": "python3",
      "display_name": "Python 3"
    },
    "language_info": {
      "name": "python"
    }
  },
  "cells": [
    {
      "cell_type": "markdown",
      "metadata": {
        "id": "view-in-github",
        "colab_type": "text"
      },
      "source": [
        "<a href=\"https://colab.research.google.com/github/SuryARavichan/EDYODA-ASSIGNMENT-3/blob/main/Find_the_Squares_from_the_given_List.ipynb\" target=\"_parent\"><img src=\"https://colab.research.google.com/assets/colab-badge.svg\" alt=\"Open In Colab\"/></a>"
      ]
    },
    {
      "cell_type": "markdown",
      "source": [
        "Write a Python program to square the elements of a list using map() function.\n",
        "\n",
        "\n",
        "\n",
        "Sample List: [4, 5, 2, 9]\n",
        "\n",
        "Square the elements of the list:\n",
        "\n",
        "[16, 25, 4, 81]\n",
        "\n"
      ],
      "metadata": {
        "id": "KQYeVfYLEm-1"
      }
    },
    {
      "cell_type": "code",
      "source": [
        "def square_num(n):\n",
        "  return n * n\n",
        "nums = [4, 5, 2, 9]\n",
        "print(\"Sample List : \",nums)\n",
        "result = map(square_num, nums)\n",
        "print(\"Square the element of the list : \")\n",
        "print(list(result))"
      ],
      "metadata": {
        "colab": {
          "base_uri": "https://localhost:8080/"
        },
        "id": "dP1Qter5EqtP",
        "outputId": "8f5c39a2-db78-4fe2-a546-b95a093b6601"
      },
      "execution_count": 1,
      "outputs": [
        {
          "output_type": "stream",
          "name": "stdout",
          "text": [
            "Sample List :  [4, 5, 2, 9]\n",
            "Square the element of the list : \n",
            "[16, 25, 4, 81]\n"
          ]
        }
      ]
    }
  ]
}