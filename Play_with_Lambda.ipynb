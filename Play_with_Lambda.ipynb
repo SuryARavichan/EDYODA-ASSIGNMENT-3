{
  "nbformat": 4,
  "nbformat_minor": 0,
  "metadata": {
    "colab": {
      "provenance": [],
      "authorship_tag": "ABX9TyOnE3MAwhiovW65ZHnJTgIN",
      "include_colab_link": true
    },
    "kernelspec": {
      "name": "python3",
      "display_name": "Python 3"
    },
    "language_info": {
      "name": "python"
    }
  },
  "cells": [
    {
      "cell_type": "markdown",
      "metadata": {
        "id": "view-in-github",
        "colab_type": "text"
      },
      "source": [
        "<a href=\"https://colab.research.google.com/github/SuryARavichan/EDYODA-ASSIGNMENT-3/blob/main/Play_with_Lambda.ipynb\" target=\"_parent\"><img src=\"https://colab.research.google.com/assets/colab-badge.svg\" alt=\"Open In Colab\"/></a>"
      ]
    },
    {
      "cell_type": "markdown",
      "source": [
        "Write a Python program to create a lambda function that adds 25 to a given number passed in as an argument.\n",
        "\n",
        "\n",
        "\n",
        "sample input: 10\n",
        "\n",
        "sample output: 35"
      ],
      "metadata": {
        "id": "BxxXs7Pm1heq"
      }
    },
    {
      "cell_type": "code",
      "source": [
        "x=int(input('sample input  : '))\n",
        "add_25 = lambda x: x + 25\n",
        "result = add_25(x)\n",
        "print('sample output  : ',result)"
      ],
      "metadata": {
        "colab": {
          "base_uri": "https://localhost:8080/"
        },
        "id": "9d5eutgT1kLz",
        "outputId": "08c8326e-8858-4479-d622-0540bd77a033"
      },
      "execution_count": 4,
      "outputs": [
        {
          "output_type": "stream",
          "name": "stdout",
          "text": [
            "sample input  : 10\n",
            "sample output  :  35\n"
          ]
        }
      ]
    }
  ]
}