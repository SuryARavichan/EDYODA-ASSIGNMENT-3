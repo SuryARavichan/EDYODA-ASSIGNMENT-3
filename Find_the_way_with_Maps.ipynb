{
  "nbformat": 4,
  "nbformat_minor": 0,
  "metadata": {
    "colab": {
      "provenance": [],
      "authorship_tag": "ABX9TyPBJv5QApkXwYBiaepx/CXP",
      "include_colab_link": true
    },
    "kernelspec": {
      "name": "python3",
      "display_name": "Python 3"
    },
    "language_info": {
      "name": "python"
    }
  },
  "cells": [
    {
      "cell_type": "markdown",
      "metadata": {
        "id": "view-in-github",
        "colab_type": "text"
      },
      "source": [
        "<a href=\"https://colab.research.google.com/github/SuryARavichan/EDYODA-ASSIGNMENT-3/blob/main/Find_the_way_with_Maps.ipynb\" target=\"_parent\"><img src=\"https://colab.research.google.com/assets/colab-badge.svg\" alt=\"Open In Colab\"/></a>"
      ]
    },
    {
      "cell_type": "markdown",
      "source": [
        "Write a Python program to triple all numbers of a given list of integers. Use Python map.\n",
        "\n",
        "\n",
        "\n",
        "sample list: [1, 2, 3, 4, 5, 6, 7]\n",
        "\n",
        "\n",
        "\n",
        "Triple of list numbers:\n",
        "\n",
        "[3, 6, 9, 12, 15, 18, 21]\n",
        "\n"
      ],
      "metadata": {
        "id": "YC61uQ3GoVKj"
      }
    },
    {
      "cell_type": "code",
      "source": [
        "nums = [1, 2, 3, 4, 5, 6, 7] \n",
        "print(\"sample list : \", nums)\n",
        "result = map(lambda x: x + x + x, nums) \n",
        "print(\"\\nTriple of list numbers :\")\n",
        "print(list(result))"
      ],
      "metadata": {
        "colab": {
          "base_uri": "https://localhost:8080/"
        },
        "id": "ISmXG6p5oXtZ",
        "outputId": "abe216e3-6332-4db7-c792-6becd3d31bd7"
      },
      "execution_count": 2,
      "outputs": [
        {
          "output_type": "stream",
          "name": "stdout",
          "text": [
            "sample list :  [1, 2, 3, 4, 5, 6, 7]\n",
            "\n",
            "Triple of list numbers :\n",
            "[3, 6, 9, 12, 15, 18, 21]\n"
          ]
        }
      ]
    }
  ]
}